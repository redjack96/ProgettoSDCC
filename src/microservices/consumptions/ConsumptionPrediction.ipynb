{
  "nbformat": 4,
  "nbformat_minor": 0,
  "metadata": {
    "colab": {
      "provenance": []
    },
    "kernelspec": {
      "name": "python3",
      "display_name": "Python 3"
    },
    "language_info": {
      "name": "python"
    }
  },
  "cells": [
    {
      "cell_type": "markdown",
      "source": [
        "# **Predizione Consumi**"
      ],
      "metadata": {
        "id": "a9Wp2kML61OO"
      }
    },
    {
      "cell_type": "code",
      "execution_count": 57,
      "metadata": {
        "colab": {
          "base_uri": "https://localhost:8080/"
        },
        "id": "cnTbKJrcNXyE",
        "outputId": "a260632e-ddd2-4264-b2e6-d978da088093"
      },
      "outputs": [
        {
          "output_type": "stream",
          "name": "stdout",
          "text": [
            "2.9.2\n"
          ]
        }
      ],
      "source": [
        "import numpy as np\n",
        "import pandas as pd\n",
        "import tensorflow as tf\n",
        "from sklearn.linear_model import LinearRegression\n",
        "import matplotlib.pyplot as plt\n",
        "\n",
        "print(tf.__version__)"
      ]
    },
    {
      "cell_type": "markdown",
      "source": [
        "## Caricamento del Dataset"
      ],
      "metadata": {
        "id": "-ltvVN4MPtey"
      }
    },
    {
      "cell_type": "code",
      "source": [
        "dataset = pd.read_csv('/content/consumi-storage.csv')\n",
        "dataset.head()\n",
        "\n",
        "# Identifico il feature set e il label set\n",
        "X = dataset.iloc[:, :-1].values\n",
        "y = dataset.iloc[:, -1].values\n",
        "print(X)\n",
        "print(y)"
      ],
      "metadata": {
        "colab": {
          "base_uri": "https://localhost:8080/"
        },
        "id": "rM4ki7NmQMVx",
        "outputId": "ef0972cd-115e-498c-fe46-ebb00ba1f72a"
      },
      "execution_count": 52,
      "outputs": [
        {
          "output_type": "stream",
          "name": "stdout",
          "text": [
            "[[1 ' Pane' 3000 0 1000 2000]\n",
            " [2 ' Pane' 2000 500 500 3000]\n",
            " [3 ' Pane' 500 500 1000 2000]\n",
            " [4 ' Pane' 500 0 500 2000]\n",
            " [5 ' Pane' 1000 200 500 2300]\n",
            " [6 ' Pane' 0 300 500 1500]\n",
            " [7 ' Pane' 0 200 500 800]\n",
            " [8 ' Pane' 500 100 450 750]\n",
            " [9 ' Pane' 500 200 400 650]\n",
            " [10 ' Pane' 0 100 500 50]\n",
            " [11 ' Pane' 100 0 150 0]\n",
            " [12 ' Pane' 500 0 450 50]\n",
            " [13 ' Pane' 300 50 250 50]\n",
            " [14 ' Pane' 350 50 300 50]\n",
            " [1 ' Mortadella' 500 0 100 400]\n",
            " [2 ' Mortadella' 100 300 50 150]\n",
            " [3 ' Mortadella' 0 0 150 0]\n",
            " [4 ' Mortadella' 200 0 150 50]\n",
            " [5 ' Mortadella' 100 50 100 0]\n",
            " [6 ' Mortadella' 100 0 50 50]\n",
            " [7 ' Mortadella' 100 50 100 0]\n",
            " [8 ' Mortadella' 100 50 50 0]\n",
            " [9 ' Mortadella' 100 0 50 50]\n",
            " [10 ' Mortadella' 200 50 150 50]\n",
            " [11 ' Mortadella' 150 50 150 0]\n",
            " [12 ' Mortadella' 200 0 150 50]\n",
            " [13 ' Mortadella' 150 50 150 0]\n",
            " [14 ' Mortadella' 100 0 80 20]\n",
            " [1 ' Pasta' 1000 0 500 500]\n",
            " [2 ' Pasta' 500 0 600 400]\n",
            " [3 ' Pasta' 1000 0 700 700]\n",
            " [4 ' Pasta' 500 0 500 700]\n",
            " [5 ' Pasta' 0 0 500 200]\n",
            " [6 ' Pasta' 500 0 550 150]\n",
            " [7 ' Pasta' 1500 150 500 1000]\n",
            " [8 ' Pasta' 0 0 550 450]\n",
            " [9 ' Pasta' 500 0 550 400]\n",
            " [10 ' Pasta' 500 0 500 400]\n",
            " [11 ' Pasta' 500 0 600 300]\n",
            " [12 ' Pasta' 500 0 550 250]\n",
            " [13 ' Pasta' 500 0 500 250]\n",
            " [14 ' Pasta' 1000 0 650 600]]\n",
            "[0.33  0.125 0.285 0.2   0.16  0.21  0.33  0.34  0.32  0.76  1.    0.9\n",
            " 0.71  0.75  0.2   0.1   1.    0.75  0.66  0.5   0.66  0.5   0.5   0.6\n",
            " 0.75  0.75  0.75  0.8   0.5   0.6   0.5   0.416 0.714 0.785 0.3   0.55\n",
            " 0.57  0.44  0.66  0.68  0.67  0.52 ]\n"
          ]
        }
      ]
    },
    {
      "cell_type": "markdown",
      "source": [
        "## Preprocessamento"
      ],
      "metadata": {
        "id": "pMSnthCU7FB4"
      }
    },
    {
      "cell_type": "code",
      "source": [
        "# one-encode sulla colona del nome del prodotto\n",
        "from sklearn.compose import ColumnTransformer\n",
        "from sklearn.preprocessing import OneHotEncoder\n",
        "ct = ColumnTransformer(transformers=[('encoder', OneHotEncoder(), [1])], remainder='passthrough')\n",
        "X = np.array(ct.fit_transform(X))\n",
        "print(X)"
      ],
      "metadata": {
        "colab": {
          "base_uri": "https://localhost:8080/"
        },
        "id": "ZFolr4AYRNuC",
        "outputId": "c534576a-5ac6-4722-8c35-4f6e1d1d9258"
      },
      "execution_count": 53,
      "outputs": [
        {
          "output_type": "stream",
          "name": "stdout",
          "text": [
            "[[0.0 1.0 0.0 1 3000 0 1000 2000]\n",
            " [0.0 1.0 0.0 2 2000 500 500 3000]\n",
            " [0.0 1.0 0.0 3 500 500 1000 2000]\n",
            " [0.0 1.0 0.0 4 500 0 500 2000]\n",
            " [0.0 1.0 0.0 5 1000 200 500 2300]\n",
            " [0.0 1.0 0.0 6 0 300 500 1500]\n",
            " [0.0 1.0 0.0 7 0 200 500 800]\n",
            " [0.0 1.0 0.0 8 500 100 450 750]\n",
            " [0.0 1.0 0.0 9 500 200 400 650]\n",
            " [0.0 1.0 0.0 10 0 100 500 50]\n",
            " [0.0 1.0 0.0 11 100 0 150 0]\n",
            " [0.0 1.0 0.0 12 500 0 450 50]\n",
            " [0.0 1.0 0.0 13 300 50 250 50]\n",
            " [0.0 1.0 0.0 14 350 50 300 50]\n",
            " [1.0 0.0 0.0 1 500 0 100 400]\n",
            " [1.0 0.0 0.0 2 100 300 50 150]\n",
            " [1.0 0.0 0.0 3 0 0 150 0]\n",
            " [1.0 0.0 0.0 4 200 0 150 50]\n",
            " [1.0 0.0 0.0 5 100 50 100 0]\n",
            " [1.0 0.0 0.0 6 100 0 50 50]\n",
            " [1.0 0.0 0.0 7 100 50 100 0]\n",
            " [1.0 0.0 0.0 8 100 50 50 0]\n",
            " [1.0 0.0 0.0 9 100 0 50 50]\n",
            " [1.0 0.0 0.0 10 200 50 150 50]\n",
            " [1.0 0.0 0.0 11 150 50 150 0]\n",
            " [1.0 0.0 0.0 12 200 0 150 50]\n",
            " [1.0 0.0 0.0 13 150 50 150 0]\n",
            " [1.0 0.0 0.0 14 100 0 80 20]\n",
            " [0.0 0.0 1.0 1 1000 0 500 500]\n",
            " [0.0 0.0 1.0 2 500 0 600 400]\n",
            " [0.0 0.0 1.0 3 1000 0 700 700]\n",
            " [0.0 0.0 1.0 4 500 0 500 700]\n",
            " [0.0 0.0 1.0 5 0 0 500 200]\n",
            " [0.0 0.0 1.0 6 500 0 550 150]\n",
            " [0.0 0.0 1.0 7 1500 150 500 1000]\n",
            " [0.0 0.0 1.0 8 0 0 550 450]\n",
            " [0.0 0.0 1.0 9 500 0 550 400]\n",
            " [0.0 0.0 1.0 10 500 0 500 400]\n",
            " [0.0 0.0 1.0 11 500 0 600 300]\n",
            " [0.0 0.0 1.0 12 500 0 550 250]\n",
            " [0.0 0.0 1.0 13 500 0 500 250]\n",
            " [0.0 0.0 1.0 14 1000 0 650 600]]\n"
          ]
        }
      ]
    },
    {
      "cell_type": "code",
      "source": [
        "# split the dataset into train and test set\n",
        "from sklearn.model_selection import train_test_split\n",
        "X_train, X_test, y_train, y_test = train_test_split(X, y, test_size = 0.2, random_state = 0)\n",
        "\n",
        "from sklearn.preprocessing import StandardScaler\n",
        "sc = StandardScaler()\n",
        "X_train = sc.fit_transform(X_train)\n",
        "X_test = sc.transform(X_test)\n",
        "print(X_train)"
      ],
      "metadata": {
        "colab": {
          "base_uri": "https://localhost:8080/"
        },
        "id": "AAgkjhe1VWkd",
        "outputId": "89009abe-2cd5-4cb5-b855-bb7b2415484e"
      },
      "execution_count": 54,
      "outputs": [
        {
          "output_type": "stream",
          "name": "stdout",
          "text": [
            "[[-0.75592895 -0.70710678  1.51657509 -0.81907636  0.07593889 -0.62147885\n",
            "   0.46047559  0.21421954]\n",
            " [-0.75592895 -0.70710678  1.51657509 -1.32906729  0.07593889 -0.62147885\n",
            "   0.85516895 -0.1936215 ]\n",
            " [ 1.32287566 -0.70710678 -0.65938047 -0.05408995 -0.5707665  -0.24859154\n",
            "  -1.11829785 -0.73740956]\n",
            " [-0.75592895 -0.70710678  1.51657509  1.2208874   0.07593889 -0.62147885\n",
            "   0.65782227 -0.39754202]\n",
            " [-0.75592895  1.41421356 -0.65938047 -1.07407182  0.07593889  3.10739423\n",
            "   2.43394238  1.98153071]\n",
            " [-0.75592895 -0.70710678  1.51657509  1.73087834  0.88432063 -0.62147885\n",
            "   1.05251563  0.07827252]\n",
            " [ 1.32287566 -0.70710678 -0.65938047 -0.56408089 -0.5707665  -0.24859154\n",
            "  -1.11829785 -0.73740956]\n",
            " [ 1.32287566 -0.70710678 -0.65938047 -1.32906729 -0.5707665   1.615845\n",
            "  -1.31564453 -0.53348904]\n",
            " [ 1.32287566 -0.70710678 -0.65938047  0.45590099 -0.5707665  -0.62147885\n",
            "  -1.31564453 -0.66943605]\n",
            " [ 1.32287566 -0.70710678 -0.65938047 -1.07407182 -0.73244285 -0.62147885\n",
            "  -0.92095117 -0.73740956]\n",
            " [-0.75592895 -0.70710678  1.51657509  0.96589193  0.07593889 -0.62147885\n",
            "   0.85516895 -0.32956852]\n",
            " [-0.75592895  1.41421356 -0.65938047  0.45590099  0.07593889  0.87007038\n",
            "   0.06578223  0.14624603]\n",
            " [-0.75592895  1.41421356 -0.65938047  1.73087834 -0.16657563 -0.24859154\n",
            "  -0.32891113 -0.66943605]\n",
            " [-0.75592895  1.41421356 -0.65938047 -0.30908542 -0.73244285  1.615845\n",
            "   0.46047559  1.30179565]\n",
            " [ 1.32287566 -0.70710678 -0.65938047 -0.81907636 -0.40909015 -0.62147885\n",
            "  -0.92095117 -0.66943605]\n",
            " [-0.75592895 -0.70710678  1.51657509 -0.56408089 -0.73244285 -0.62147885\n",
            "   0.46047559 -0.46551553]\n",
            " [ 1.32287566 -0.70710678 -0.65938047 -1.58406276  0.07593889 -0.62147885\n",
            "  -1.11829785 -0.1936215 ]\n",
            " [-0.75592895 -0.70710678  1.51657509  0.20090552 -0.73244285 -0.62147885\n",
            "   0.65782227 -0.125648  ]\n",
            " [-0.75592895  1.41421356 -0.65938047  0.20090552  0.07593889  0.12429577\n",
            "   0.26312891  0.28219304]\n",
            " [-0.75592895 -0.70710678  1.51657509 -0.05408995  1.69270236  0.49718308\n",
            "   0.46047559  0.62206058]\n",
            " [-0.75592895  1.41421356 -0.65938047 -1.32906729  2.5010841   3.10739423\n",
            "   0.46047559  3.34100085]\n",
            " [ 1.32287566 -0.70710678 -0.65938047  1.47588287 -0.48992833 -0.24859154\n",
            "  -0.92095117 -0.73740956]\n",
            " [-0.75592895  1.41421356 -0.65938047  1.47588287 -0.2474138  -0.24859154\n",
            "  -0.52625781 -0.66943605]\n",
            " [-0.75592895 -0.70710678  1.51657509 -0.30908542  0.07593889 -0.62147885\n",
            "   0.65782227 -0.53348904]\n",
            " [ 1.32287566 -0.70710678 -0.65938047  0.96589193 -0.48992833 -0.24859154\n",
            "  -0.92095117 -0.73740956]\n",
            " [-0.75592895  1.41421356 -0.65938047 -0.05408995 -0.73244285  0.87007038\n",
            "   0.46047559  0.35016655]\n",
            " [ 1.32287566 -0.70710678 -0.65938047  0.71089646 -0.40909015 -0.24859154\n",
            "  -0.92095117 -0.66943605]\n",
            " [ 1.32287566 -0.70710678 -0.65938047  0.20090552 -0.5707665  -0.24859154\n",
            "  -1.31564453 -0.73740956]\n",
            " [ 1.32287566 -0.70710678 -0.65938047 -0.30908542 -0.5707665  -0.62147885\n",
            "  -1.31564453 -0.66943605]\n",
            " [-0.75592895  1.41421356 -0.65938047  0.71089646 -0.73244285  0.12429577\n",
            "   0.46047559 -0.66943605]\n",
            " [-0.75592895 -0.70710678  1.51657509  1.47588287  0.07593889 -0.62147885\n",
            "   0.46047559 -0.39754202]\n",
            " [-0.75592895  1.41421356 -0.65938047 -0.81907636  0.07593889 -0.62147885\n",
            "   0.46047559  1.98153071]\n",
            " [-0.75592895  1.41421356 -0.65938047 -1.58406276  4.11784757 -0.62147885\n",
            "   2.43394238  1.98153071]]\n"
          ]
        }
      ]
    },
    {
      "cell_type": "markdown",
      "source": [
        "## Costruzione del modello"
      ],
      "metadata": {
        "id": "qMoCG8nn7Ok_"
      }
    },
    {
      "cell_type": "code",
      "source": [
        "model = LinearRegression().fit(X_train, y_train)\n",
        "print(f\"intercept: {model.intercept_}\")\n",
        "print(f\"slope: {model.coef_}\")"
      ],
      "metadata": {
        "colab": {
          "base_uri": "https://localhost:8080/"
        },
        "id": "IVwwvWt3WBIL",
        "outputId": "043b4e21-6430-4f3d-d454-9ca6a97501b1"
      },
      "execution_count": 55,
      "outputs": [
        {
          "output_type": "stream",
          "name": "stdout",
          "text": [
            "intercept: 0.521969696969697\n",
            "slope: [ 0.03629394 -0.01031849 -0.02740586  0.04215307 -0.01071407 -0.05129493\n",
            "  0.10938234 -0.14524711]\n"
          ]
        }
      ]
    },
    {
      "cell_type": "markdown",
      "source": [
        "Proviamo invece a cedere le prestazioni della regressione Polinomiale (cerco di rappresentare le features su uno spazio di dimensionalità maggiore di modo che si possano tenere in considerazione anche eventuali fluttuazioni). Prima di tutto, è necessario modificare le features in modo da essere rappresentate nello spazio di dimensionalità maggiore:"
      ],
      "metadata": {
        "id": "vENC-88y26BA"
      }
    },
    {
      "cell_type": "code",
      "source": [
        "from sklearn.preprocessing import PolynomialFeatures\n",
        "\n",
        "poly = PolynomialFeatures(degree=5, include_bias=False)\n",
        "X_poly = poly.fit_transform(X)\n",
        "\n",
        "# split poly features\n",
        "X_poly_train, X_poly_test, y_poly_train, y_poly_test = train_test_split(X_poly, y, test_size=0.2, random_state=0)\n",
        "\n",
        "# scale poly features\n",
        "X_poly_train = sc.fit_transform(X_poly_train)\n",
        "X_poly_test = sc.fit_transform(X_poly_test)\n",
        "print(X_poly_train)"
      ],
      "metadata": {
        "colab": {
          "base_uri": "https://localhost:8080/"
        },
        "id": "HIXZUrLH3OCe",
        "outputId": "197f5113-9a7f-4523-d8db-f21aefbfc25a"
      },
      "execution_count": 93,
      "outputs": [
        {
          "output_type": "stream",
          "name": "stdout",
          "text": [
            "[[-0.75592895 -0.70710678  1.51657509 ... -0.32642455 -0.31171221\n",
            "  -0.24688175]\n",
            " [-0.75592895 -0.70710678  1.51657509 ... -0.35514403 -0.32513262\n",
            "  -0.2506304 ]\n",
            " [ 1.32287566 -0.70710678 -0.65938047 ... -0.36569573 -0.32710164\n",
            "  -0.25087362]\n",
            " ...\n",
            " [-0.75592895 -0.70710678  1.51657509 ... -0.36390677 -0.32685127\n",
            "  -0.25085042]\n",
            " [-0.75592895  1.41421356 -0.65938047 ...  0.55025011  0.69843329\n",
            "   0.50916542]\n",
            " [-0.75592895  1.41421356 -0.65938047 ...  3.29808761  1.72396823\n",
            "   0.50916542]]\n"
          ]
        }
      ]
    },
    {
      "cell_type": "markdown",
      "source": [
        "Dopodiché è possibile procedere con la regressione:"
      ],
      "metadata": {
        "id": "oMI83NfY3zli"
      }
    },
    {
      "cell_type": "code",
      "source": [
        "poly_reg_model = LinearRegression().fit(X_poly_train, y_train)\n",
        "print(f\"intercept: {poly_reg_model.intercept_}\")\n",
        "print(f\"slope: {poly_reg_model.coef_}\")"
      ],
      "metadata": {
        "colab": {
          "base_uri": "https://localhost:8080/"
        },
        "id": "HaoGTJPZ3311",
        "outputId": "8db0d1ea-8b0e-4f58-f4ea-02b33d42b064"
      },
      "execution_count": 94,
      "outputs": [
        {
          "output_type": "stream",
          "name": "stdout",
          "text": [
            "intercept: 0.521969696969697\n",
            "slope: [-5.49151575e-03 -2.86916702e-03  8.69121978e-03 ... -2.65480262e-05\n",
            " -6.82288174e-04 -1.18044579e-03]\n"
          ]
        }
      ]
    },
    {
      "cell_type": "markdown",
      "source": [
        "## Possibili metriche per la regressione:\n",
        "1) **R quadro**: Ha valore compreso tra 0 e 1. Se il suo valore è 0, allora significa che il modello è tale per cui le sue variabili predittive non spiegano per nulla la variabilità della y intorno alla sua media. Se invece vale 1 significa che le variabili indipendenti riescono a spiegare completamente la variabilità della y intorno alla sua media. Ovvero, conoscendo i valori delle variabili indipendenti puoi predire esattamente quale sarà il valore della y (molto bene!)"
      ],
      "metadata": {
        "id": "7xMoR21da555"
      }
    },
    {
      "cell_type": "code",
      "source": [
        "from sklearn.metrics import mean_absolute_error,r2_score,mean_squared_error\n",
        "\n",
        "y_pred = model.predict(X_test)\n",
        "print(\"y_pred:\", y_pred)\n",
        "print(\"y_test:\", y_test)\n",
        "print(\"R^2 : \", r2_score(y_test, y_pred))\n",
        "print(\"MeanAbsErr :\", mean_absolute_error(y_test,y_pred))\n",
        "print(\"MeanSquaresError:\",np.sqrt(mean_squared_error(y_test, y_pred)))"
      ],
      "metadata": {
        "colab": {
          "base_uri": "https://localhost:8080/"
        },
        "id": "p4ITRShdXbk6",
        "outputId": "99c153a6-09dc-4ecd-a5d2-ce5e74cafade"
      },
      "execution_count": 91,
      "outputs": [
        {
          "output_type": "stream",
          "name": "stdout",
          "text": [
            "y_pred: [0.542994   0.61062712 0.67850591 0.12344833 0.58309246 0.67957298\n",
            " 0.47464317 0.70655695 0.59978972]\n",
            "y_test: [0.5  0.57 0.8  0.16 1.   0.75 0.5  0.9  0.44]\n",
            "R^2 :  0.5212846320123092\n",
            "MeanAbsErr : 0.12306567221212432\n",
            "MeanSquaresError: 0.1706079610888832\n"
          ]
        }
      ]
    },
    {
      "cell_type": "markdown",
      "source": [
        "Per la **Regressione Polinomiale**:"
      ],
      "metadata": {
        "id": "s4EZd-y74Rhz"
      }
    },
    {
      "cell_type": "code",
      "source": [
        "y_poly_pred = poly_reg_model.predict(X_poly_test)\n",
        "print(\"y_pred:\", y_poly_pred)\n",
        "print(\"y_test:\", y_test)\n",
        "print(\"R^2 : \", r2_score(y_test, y_poly_pred))\n",
        "print(\"MeanAbsErr :\", mean_absolute_error(y_test,y_poly_pred))\n",
        "print(\"MeanSquaresError:\",np.sqrt(mean_squared_error(y_test, y_poly_pred)))"
      ],
      "metadata": {
        "colab": {
          "base_uri": "https://localhost:8080/"
        },
        "id": "eXltMPzi4U0v",
        "outputId": "eb840897-555c-4ce6-d6be-8c4cecacbec4"
      },
      "execution_count": 95,
      "outputs": [
        {
          "output_type": "stream",
          "name": "stdout",
          "text": [
            "y_pred: [ 0.41736608  0.62494617  0.54402247 -0.01235393  0.6399371   0.62910059\n",
            "  0.55306275  0.67937115  0.6222749 ]\n",
            "y_test: [0.5  0.57 0.8  0.16 1.   0.75 0.5  0.9  0.44]\n",
            "R^2 :  0.389541116227468\n",
            "MeanAbsErr : 0.16698226305208502\n",
            "MeanSquaresError: 0.19265878500409944\n"
          ]
        }
      ]
    }
  ]
}